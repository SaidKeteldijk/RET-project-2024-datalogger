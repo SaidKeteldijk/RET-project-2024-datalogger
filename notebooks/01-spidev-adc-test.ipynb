{
 "cells": [
  {
   "cell_type": "code",
   "execution_count": 1,
   "metadata": {},
   "outputs": [
    {
     "ename": "ModuleNotFoundError",
     "evalue": "No module named 'spidev'",
     "output_type": "error",
     "traceback": [
      "\u001b[1;31m---------------------------------------------------------------------------\u001b[0m",
      "\u001b[1;31mModuleNotFoundError\u001b[0m                       Traceback (most recent call last)",
      "Cell \u001b[1;32mIn[1], line 2\u001b[0m\n\u001b[0;32m      1\u001b[0m \u001b[38;5;66;03m##App.py Desktop/App\u001b[39;00m\n\u001b[1;32m----> 2\u001b[0m \u001b[38;5;28;01mimport\u001b[39;00m \u001b[38;5;21;01mspidev\u001b[39;00m\n\u001b[0;32m      3\u001b[0m \u001b[38;5;28;01mimport\u001b[39;00m \u001b[38;5;21;01mtime\u001b[39;00m\n\u001b[0;32m      4\u001b[0m \u001b[38;5;28;01mimport\u001b[39;00m \u001b[38;5;21;01mRPi\u001b[39;00m\u001b[38;5;21;01m.\u001b[39;00m\u001b[38;5;21;01mGPIO\u001b[39;00m \u001b[38;5;28;01mas\u001b[39;00m \u001b[38;5;21;01mGPIO\u001b[39;00m\n",
      "\u001b[1;31mModuleNotFoundError\u001b[0m: No module named 'spidev'"
     ]
    }
   ],
   "source": [
    "##App.py Desktop/App\n",
    "import spidev\n",
    "import time\n",
    "import RPi.GPIO as GPIO"
   ]
  },
  {
   "cell_type": "code",
   "execution_count": null,
   "metadata": {},
   "outputs": [],
   "source": [
    "spi = spidev.SpiDev()\n",
    "spi.open(0, 0)  \n",
    "spi.max_speed_hz = 1350000"
   ]
  },
  {
   "cell_type": "code",
   "execution_count": null,
   "metadata": {},
   "outputs": [],
   "source": [
    "GPIO.setwarnings(False)\n",
    "GPIO.setmode(GPIO.BOARD)\n",
    "Relay1 = 11\n",
    "Relay2 = 15\n",
    "Relay3 = 13\n",
    "Relay4 = 22\n",
    "GPIO.setup(Relay1, GPIO.OUT, initial=GPIO.LOW)\n",
    "GPIO.setup(Relay2, GPIO.OUT, initial=GPIO.LOW)\n",
    "GPIO.setup(Relay3, GPIO.OUT, initial=GPIO.LOW)\n",
    "GPIO.setup(Relay4, GPIO.OUT, initial=GPIO.LOW)\n",
    "\n"
   ]
  },
  {
   "cell_type": "code",
   "execution_count": null,
   "metadata": {},
   "outputs": [
    {
     "ename": "SyntaxError",
     "evalue": "invalid syntax (363856414.py, line 15)",
     "output_type": "error",
     "traceback": [
      "\u001b[1;36m  Cell \u001b[1;32mIn[2], line 15\u001b[1;36m\u001b[0m\n\u001b[1;33m    else:\u001b[0m\n\u001b[1;37m    ^\u001b[0m\n\u001b[1;31mSyntaxError\u001b[0m\u001b[1;31m:\u001b[0m invalid syntax\n"
     ]
    }
   ],
   "source": [
    "def relay_test():\n",
    "    GPIO.output(Relay1, GPIO.HIGH)\n",
    "    time.sleep(1.5)\n",
    "    GPIO.output(Relay1, GPIO.LOW)\n",
    "    GPIO.output(Relay2, GPIO.HIGH)\n",
    "    time.sleep(1.5)\n",
    "    GPIO.output(Relay2, GPIO.LOW)\n",
    "    GPIO.output(Relay3, GPIO.HIGH)\n",
    "    time.sleep(1.5)\n",
    "    GPIO.output(Relay3, GPIO.LOW)\n",
    "    GPIO.output(Relay4, GPIO.HIGH)\n",
    "    time.sleep(1.5)\n",
    "    GPIO.output(Relay4, GPIO.LOW)\n",
    "    \n",
    "def read_channel():\n",
    "    \n",
    "    adc = spi.xfer2([1, (8 + 0) << 4, 0])\n",
    "    raw_value = ((adc[1] & 3) << 8) + adc[2]\n",
    "    min_adc = 310  \n",
    "    max_adc = 1023  \n",
    "    max_current = 100  \n",
    "\n",
    "    if raw_value >= min_adc:\n",
    "        normalized_value = (raw_value - min_adc) / (max_adc - min_adc)  \n",
    "        current = normalized_value * max_current \n",
    "    else:\n",
    "        current = 0  \n",
    "    \n",
    "    return current"
   ]
  },
  {
   "cell_type": "code",
   "execution_count": null,
   "metadata": {},
   "outputs": [],
   "source": [
    "try:\n",
    "    while True:\n",
    "        # Read the current in amperes\n",
    "        current = read_channel()\n",
    "        print(f\"The measured current: {current:.2f} A\")  # Print with 2 decimal places\n",
    "        time.sleep(0.8)  # Delay for readability\n",
    "        # relay_test()  # Uncomment to test relays\n",
    "except KeyboardInterrupt:\n",
    "    print(\"Exiting...\")\n",
    "    spi.close()"
   ]
  }
 ],
 "metadata": {
  "kernelspec": {
   "display_name": "Python 3",
   "language": "python",
   "name": "python3"
  },
  "language_info": {
   "codemirror_mode": {
    "name": "ipython",
    "version": 3
   },
   "file_extension": ".py",
   "mimetype": "text/x-python",
   "name": "python",
   "nbconvert_exporter": "python",
   "pygments_lexer": "ipython3",
   "version": "3.11.9"
  }
 },
 "nbformat": 4,
 "nbformat_minor": 2
}
