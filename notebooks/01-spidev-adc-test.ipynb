{
 "cells": [
  {
   "cell_type": "code",
   "execution_count": null,
   "metadata": {},
   "outputs": [
    {
     "ename": "ModuleNotFoundError",
     "evalue": "No module named 'spidev'",
     "output_type": "error",
     "traceback": [
      "\u001b[1;31m---------------------------------------------------------------------------\u001b[0m",
      "\u001b[1;31mModuleNotFoundError\u001b[0m                       Traceback (most recent call last)",
      "Cell \u001b[1;32mIn[1], line 1\u001b[0m\n\u001b[1;32m----> 1\u001b[0m \u001b[38;5;28;01mimport\u001b[39;00m \u001b[38;5;21;01mspidev\u001b[39;00m\n\u001b[0;32m      2\u001b[0m \u001b[38;5;28;01mimport\u001b[39;00m \u001b[38;5;21;01mtime\u001b[39;00m\n",
      "\u001b[1;31mModuleNotFoundError\u001b[0m: No module named 'spidev'"
     ]
    }
   ],
   "source": [
    "import spidev\n",
    "import time\n",
    "import RPi.GPIO as GPIO"
   ]
  },
  {
   "cell_type": "code",
   "execution_count": null,
   "metadata": {},
   "outputs": [],
   "source": [
    "spi = spidev.SpiDev()\n",
    "spi.open(0, 0)  \n",
    "spi.max_speed_hz = 1350000"
   ]
  },
  {
   "cell_type": "code",
   "execution_count": null,
   "metadata": {},
   "outputs": [],
   "source": [
    "GPIO.setwarnings(False)\n",
    "GPIO.setmode(GPIO.BOARD)\n",
    "Relay1 = 17\n",
    "Relay2 = 27\n",
    "Relay3 = 22\n",
    "Relay4 = 25\n",
    "GPIO.setup(Relay1, GPIO.OUT, initial=GPIO.LOW)\n",
    "GPIO.setup(Relay2, GPIO.OUT, initial=GPIO.LOW)\n",
    "GPIO.setup(Relay3, GPIO.OUT, initial=GPIO.LOW)\n",
    "GPIO.setup(Relay4, GPIO.OUT, initial=GPIO.LOW)\n",
    "\n"
   ]
  },
  {
   "cell_type": "code",
   "execution_count": null,
   "metadata": {},
   "outputs": [
    {
     "ename": "SyntaxError",
     "evalue": "invalid syntax (363856414.py, line 15)",
     "output_type": "error",
     "traceback": [
      "\u001b[1;36m  Cell \u001b[1;32mIn[2], line 15\u001b[1;36m\u001b[0m\n\u001b[1;33m    else:\u001b[0m\n\u001b[1;37m    ^\u001b[0m\n\u001b[1;31mSyntaxError\u001b[0m\u001b[1;31m:\u001b[0m invalid syntax\n"
     ]
    }
   ],
   "source": [
    "def read_channel_0():\n",
    "    adc = spi.xfer2([1, (8 + 0) << 4, 0])\n",
    "    value = ((adc[1] & 3) << 8) + adc[2]\n",
    "    return value\n",
    "\n",
    "def relay_test():\n",
    "    GPIO.output(Relay1, GPIO.HIGH)\n",
    "    time.sleep(1)\n",
    "    GPIO.output(Relay1, GPIO.LOW)\n",
    "    GPIO.output(Relay2, GPIO.HIGH)\n",
    "    time.sleep(1)\n",
    "    GPIO.output(Relay2, GPIO.LOW)\n",
    "    GPIO.output(Relay3, GPIO.HIGH)\n",
    "    time.sleep(1)\n",
    "    GPIO.output(Relay3, GPIO.LOW)\n",
    "    GPIO.output(Relay4, GPIO.HIGH)\n",
    "    time.sleep(1)\n",
    "    GPIO.output(Relay4, GPIO.LOW)\n",
    "\n",
    "def read_channel_0():\n",
    "    adc = spi.xfer2([1, (8 + 0) << 4, 0])\n",
    "    value = ((adc[1] & 3) << 8) + adc[2]\n",
    "    max_data = 1023\n",
    "    min_data = 310\n",
    "    if(value >= min_data):\n",
    "        value = value - min_data\n",
    "        value = value/max_data\n",
    "        value = 66*value\n",
    "    else:\n",
    "        print(\"current is zero\")\n",
    "        value: 0\n",
    "    return value"
   ]
  },
  {
   "cell_type": "code",
   "execution_count": null,
   "metadata": {},
   "outputs": [],
   "source": [
    "try:\n",
    "    while True:\n",
    "        value = read_channel_0()\n",
    "        print(f\"Channel 0 Value: {value}\")\n",
    "        time.sleep(1.5)  \n",
    "except KeyboardInterrupt:\n",
    "    print(\"Exiting...\")\n",
    "    spi.close()"
   ]
  }
 ],
 "metadata": {
  "kernelspec": {
   "display_name": "Python 3",
   "language": "python",
   "name": "python3"
  },
  "language_info": {
   "codemirror_mode": {
    "name": "ipython",
    "version": 3
   },
   "file_extension": ".py",
   "mimetype": "text/x-python",
   "name": "python",
   "nbconvert_exporter": "python",
   "pygments_lexer": "ipython3",
   "version": "3.11.9"
  }
 },
 "nbformat": 4,
 "nbformat_minor": 2
}
