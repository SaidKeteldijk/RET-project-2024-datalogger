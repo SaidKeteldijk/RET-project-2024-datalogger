{
 "cells": [
  {
   "cell_type": "code",
   "execution_count": null,
   "metadata": {},
   "outputs": [],
   "source": [
    "import tkinter\n",
    "import customtkinter\n",
    "\n",
    "\n",
    "customtkinter.set_appearance_mode(\"System\")\n",
    "customtkinter.set_default_color_theme(\"dark-blue\")"
   ]
  },
  {
   "cell_type": "code",
   "execution_count": 6,
   "metadata": {},
   "outputs": [],
   "source": [
    "def set1():\n",
    "    if first_input.get() < 0:\n",
    "        print(\"ERROR: INVALID VALUE\")\n",
    "    elif first_input.get() >= 0:\n",
    "        print(\"Alarm set to:\", first_input.get())\n",
    "\n",
    "def set2():\n",
    "    if second_input.get() <= first_input.get():\n",
    "        print(\"The second alarm cannot be lower than the first alarm\")\n",
    "    elif second_input.get() > first_input.get():\n",
    "        print(\"Alarm set to:\", second_input.get())"
   ]
  },
  {
   "cell_type": "code",
   "execution_count": 7,
   "metadata": {},
   "outputs": [],
   "source": [
    "app = customtkinter.CTk()\n",
    "app.geometry(\"800x480\")\n",
    "app.title(\"RET Demo Dashboard\")\n",
    "app.grid_columnconfigure(0, weight=1)\n",
    "app.grid_columnconfigure(1, weight=1)"
   ]
  },
  {
   "cell_type": "code",
   "execution_count": null,
   "metadata": {},
   "outputs": [
    {
     "name": "stderr",
     "output_type": "stream",
     "text": [
      "Exception in Tkinter callback\n",
      "Traceback (most recent call last):\n",
      "  File \"C:\\Program Files\\WindowsApps\\PythonSoftwareFoundation.Python.3.11_3.11.2544.0_x64__qbz5n2kfra8p0\\Lib\\tkinter\\__init__.py\", line 1967, in __call__\n",
      "    return self.func(*args)\n",
      "           ^^^^^^^^^^^^^^^^\n",
      "  File \"C:\\Users\\saidk\\AppData\\Local\\Packages\\PythonSoftwareFoundation.Python.3.11_qbz5n2kfra8p0\\LocalCache\\local-packages\\Python311\\site-packages\\customtkinter\\windows\\widgets\\ctk_entry.py\", line 120, in _textvariable_callback\n",
      "    if self._textvariable.get() == \"\":\n",
      "       ^^^^^^^^^^^^^^^^^^^^^^^^\n",
      "  File \"C:\\Program Files\\WindowsApps\\PythonSoftwareFoundation.Python.3.11_3.11.2544.0_x64__qbz5n2kfra8p0\\Lib\\tkinter\\__init__.py\", line 615, in get\n",
      "    return self._tk.getdouble(self._tk.globalgetvar(self._name))\n",
      "           ^^^^^^^^^^^^^^^^^^^^^^^^^^^^^^^^^^^^^^^^^^^^^^^^^^^^^\n",
      "_tkinter.TclError: expected floating-point number but got \"\"\n"
     ]
    },
    {
     "name": "stdout",
     "output_type": "stream",
     "text": [
      "Alarm set to: 1.0\n"
     ]
    },
    {
     "name": "stderr",
     "output_type": "stream",
     "text": [
      "Exception in Tkinter callback\n",
      "Traceback (most recent call last):\n",
      "  File \"C:\\Program Files\\WindowsApps\\PythonSoftwareFoundation.Python.3.11_3.11.2544.0_x64__qbz5n2kfra8p0\\Lib\\tkinter\\__init__.py\", line 1967, in __call__\n",
      "    return self.func(*args)\n",
      "           ^^^^^^^^^^^^^^^^\n",
      "  File \"C:\\Users\\saidk\\AppData\\Local\\Packages\\PythonSoftwareFoundation.Python.3.11_qbz5n2kfra8p0\\LocalCache\\local-packages\\Python311\\site-packages\\customtkinter\\windows\\widgets\\ctk_entry.py\", line 120, in _textvariable_callback\n",
      "    if self._textvariable.get() == \"\":\n",
      "       ^^^^^^^^^^^^^^^^^^^^^^^^\n",
      "  File \"C:\\Program Files\\WindowsApps\\PythonSoftwareFoundation.Python.3.11_3.11.2544.0_x64__qbz5n2kfra8p0\\Lib\\tkinter\\__init__.py\", line 615, in get\n",
      "    return self._tk.getdouble(self._tk.globalgetvar(self._name))\n",
      "           ^^^^^^^^^^^^^^^^^^^^^^^^^^^^^^^^^^^^^^^^^^^^^^^^^^^^^\n",
      "_tkinter.TclError: expected floating-point number but got \"\"\n"
     ]
    },
    {
     "name": "stdout",
     "output_type": "stream",
     "text": [
      "The second alarm cannot be lower than the first alarm\n"
     ]
    },
    {
     "name": "stderr",
     "output_type": "stream",
     "text": [
      "Exception in Tkinter callback\n",
      "Traceback (most recent call last):\n",
      "  File \"C:\\Program Files\\WindowsApps\\PythonSoftwareFoundation.Python.3.11_3.11.2544.0_x64__qbz5n2kfra8p0\\Lib\\tkinter\\__init__.py\", line 1967, in __call__\n",
      "    return self.func(*args)\n",
      "           ^^^^^^^^^^^^^^^^\n",
      "  File \"C:\\Users\\saidk\\AppData\\Local\\Packages\\PythonSoftwareFoundation.Python.3.11_qbz5n2kfra8p0\\LocalCache\\local-packages\\Python311\\site-packages\\customtkinter\\windows\\widgets\\ctk_entry.py\", line 120, in _textvariable_callback\n",
      "    if self._textvariable.get() == \"\":\n",
      "       ^^^^^^^^^^^^^^^^^^^^^^^^\n",
      "  File \"C:\\Program Files\\WindowsApps\\PythonSoftwareFoundation.Python.3.11_3.11.2544.0_x64__qbz5n2kfra8p0\\Lib\\tkinter\\__init__.py\", line 615, in get\n",
      "    return self._tk.getdouble(self._tk.globalgetvar(self._name))\n",
      "           ^^^^^^^^^^^^^^^^^^^^^^^^^^^^^^^^^^^^^^^^^^^^^^^^^^^^^\n",
      "_tkinter.TclError: expected floating-point number but got \"\"\n"
     ]
    },
    {
     "name": "stdout",
     "output_type": "stream",
     "text": [
      "Alarm set to: 5.0\n"
     ]
    }
   ],
   "source": [
    "text1 = customtkinter.CTkLabel(app, text=\"Set First alarm\")\n",
    "text1.grid(row=0, column=3, padx=30, pady=0,)\n",
    "\n",
    "text1 = customtkinter.CTkLabel(app, text=\"Set second alarm\")\n",
    "text1.grid(row=2, column=3, padx=30, pady=0,)\n",
    "\n",
    "first_input = tkinter.DoubleVar()\n",
    "input1 = customtkinter.CTkEntry(app, width=100, height=30, textvariable=first_input)\n",
    "input1.grid(row=1, column=3, padx=20, pady=0)\n",
    "\n",
    "second_input = tkinter.DoubleVar()\n",
    "input2 = customtkinter.CTkEntry(app, width=100, height=30, textvariable=second_input)\n",
    "input2.grid(row=3, column=3, padx=20, pady=0)\n",
    "\n",
    "\n",
    "alarm_button1 = customtkinter.CTkButton(app, width=60, height=30, text=\"SET\", command=set1)\n",
    "alarm_button1.grid(row=1, column=5, padx=20, pady=0)\n",
    "\n",
    "alarm_button2 = customtkinter.CTkButton(app, width=60, height=30, text=\"SET\", command=set2)\n",
    "alarm_button2.grid(row=3, column=5, padx=20, pady=0)\n",
    "\n",
    "app.mainloop()"
   ]
  }
 ],
 "metadata": {
  "kernelspec": {
   "display_name": "Python 3",
   "language": "python",
   "name": "python3"
  },
  "language_info": {
   "codemirror_mode": {
    "name": "ipython",
    "version": 3
   },
   "file_extension": ".py",
   "mimetype": "text/x-python",
   "name": "python",
   "nbconvert_exporter": "python",
   "pygments_lexer": "ipython3",
   "version": "3.11.9"
  }
 },
 "nbformat": 4,
 "nbformat_minor": 2
}
