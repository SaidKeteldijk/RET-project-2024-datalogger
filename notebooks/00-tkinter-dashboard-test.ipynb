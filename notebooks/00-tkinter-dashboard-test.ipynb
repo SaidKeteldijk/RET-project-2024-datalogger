{
 "cells": [
  {
   "cell_type": "code",
   "execution_count": null,
   "metadata": {},
   "outputs": [],
   "source": [
    "import tkinter\n",
    "import customtkinter\n",
    "import RPi.GPIO as GPIO\n",
    "import time\n",
    "import spidev\n",
    "\n",
    "customtkinter.set_appearance_mode(\"light\")\n",
    "customtkinter.set_default_color_theme(\"dark-blue\")"
   ]
  },
  {
   "cell_type": "code",
   "execution_count": null,
   "metadata": {},
   "outputs": [],
   "source": [
    "GPIO.setwarnings(False)\n",
    "GPIO.setmode(GPIO.BOARD)\n",
    "Relay1 = 11\n",
    "Relay2 = 15\n",
    "Relay3 = 13\n",
    "Relay4 = 22\n",
    "GPIO.setup(Relay1, GPIO.OUT, initial=GPIO.LOW)\n",
    "GPIO.setup(Relay2, GPIO.OUT, initial=GPIO.LOW)\n",
    "GPIO.setup(Relay3, GPIO.OUT, initial=GPIO.LOW)\n",
    "GPIO.setup(Relay4, GPIO.OUT, initial=GPIO.LOW)"
   ]
  },
  {
   "cell_type": "code",
   "execution_count": null,
   "metadata": {},
   "outputs": [],
   "source": [
    "def set1():\n",
    "    if first_input.get() < 0:\n",
    "        print(\"ERROR: INVALID VALUE\")\n",
    "    elif first_input.get() >= 0:\n",
    "        print(\"Alarm set to:\", first_input.get())\n",
    "\n",
    "def set2():\n",
    "    if second_input.get() <= first_input.get():\n",
    "        print(\"The second alarm cannot be lower than the first alarm\")\n",
    "    elif second_input.get() > first_input.get():\n",
    "        print(\"Alarm set to:\", second_input.get())\n",
    "\n",
    "def functional_test():\n",
    "    print(\"Preforming system functionality test....\")\n",
    "    GPIO.output(Relay1, GPIO.HIGH)\n",
    "    time.sleep(1)\n",
    "    GPIO.output(Relay1, GPIO.LOW)\n",
    "    GPIO.output(Relay2, GPIO.HIGH)\n",
    "    time.sleep(1)\n",
    "    GPIO.output(Relay2, GPIO.LOW)\n",
    "    GPIO.output(Relay3, GPIO.HIGH)\n",
    "    time.sleep(1)\n",
    "    GPIO.output(Relay3, GPIO.LOW)\n",
    "    GPIO.output(Relay4, GPIO.HIGH)\n",
    "    time.sleep(1)\n",
    "    GPIO.output(Relay4, GPIO.LOW)"
   ]
  },
  {
   "cell_type": "code",
   "execution_count": 3,
   "metadata": {},
   "outputs": [],
   "source": [
    "app = customtkinter.CTk()\n",
    "app.geometry(\"800x480\")\n",
    "app.title(\"RET Demo Dashboard\")\n",
    "app.grid_columnconfigure(0, weight=1)\n",
    "app.grid_columnconfigure(1, weight=1)"
   ]
  },
  {
   "cell_type": "code",
   "execution_count": null,
   "metadata": {},
   "outputs": [],
   "source": [
    "text1 = customtkinter.CTkLabel(app, text=\"Set First alarm\")\n",
    "text1.grid(row=0, column=3, padx=30, pady=0,)\n",
    "\n",
    "text1 = customtkinter.CTkLabel(app, text=\"Set second alarm\")\n",
    "text1.grid(row=2, column=3, padx=30, pady=0,)\n",
    "\n",
    "first_input = tkinter.DoubleVar()\n",
    "input1 = customtkinter.CTkEntry(app, width=100, height=30, textvariable=first_input)\n",
    "input1.grid(row=1, column=3, padx=20, pady=0)\n",
    "\n",
    "second_input = tkinter.DoubleVar()\n",
    "input2 = customtkinter.CTkEntry(app, width=100, height=30, textvariable=second_input)\n",
    "input2.grid(row=3, column=3, padx=20, pady=0)\n",
    "\n",
    "alarm_button1 = customtkinter.CTkButton(app, width=60, height=30, text=\"SET\", command=set1)\n",
    "alarm_button1.grid(row=1, column=5, padx=20, pady=0)\n",
    "\n",
    "alarm_button2 = customtkinter.CTkButton(app, width=60, height=30, text=\"SET\", command=set2)\n",
    "alarm_button2.grid(row=3, column=5, padx=20, pady=0)\n",
    "\n",
    "\n",
    "\n"
   ]
  },
  {
   "cell_type": "code",
   "execution_count": null,
   "metadata": {},
   "outputs": [],
   "source": [
    "system_test = customtkinter.CTkButton(app, width=60, height=30, text=\"Full system test\", command=functional_test)\n",
    "system_test.grid(row=0, column=0, padx=20, pady=0)"
   ]
  },
  {
   "cell_type": "code",
   "execution_count": 5,
   "metadata": {},
   "outputs": [],
   "source": [
    "app.mainloop()"
   ]
  }
 ],
 "metadata": {
  "kernelspec": {
   "display_name": "Python 3",
   "language": "python",
   "name": "python3"
  },
  "language_info": {
   "codemirror_mode": {
    "name": "ipython",
    "version": 3
   },
   "file_extension": ".py",
   "mimetype": "text/x-python",
   "name": "python",
   "nbconvert_exporter": "python",
   "pygments_lexer": "ipython3",
   "version": "3.11.9"
  }
 },
 "nbformat": 4,
 "nbformat_minor": 2
}
