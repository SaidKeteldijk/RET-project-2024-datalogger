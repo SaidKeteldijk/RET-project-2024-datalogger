{
 "cells": [
  {
   "cell_type": "code",
   "execution_count": 52,
   "metadata": {},
   "outputs": [],
   "source": [
    "import tkinter\n",
    "import customtkinter\n",
    "\n",
    "customtkinter.set_appearance_mode(\"light\")\n",
    "customtkinter.set_default_color_theme(\"dark-blue\")"
   ]
  },
  {
   "cell_type": "code",
   "execution_count": 53,
   "metadata": {},
   "outputs": [],
   "source": [
    "app = customtkinter.CTk()\n",
    "app.geometry(\"800x480\")\n",
    "app.title(\"RET Demo Dashboard\")\n",
    "app.grid_columnconfigure(0, weight=1)\n",
    "app.grid_columnconfigure(1, weight=1)"
   ]
  },
  {
   "cell_type": "code",
   "execution_count": 54,
   "metadata": {},
   "outputs": [],
   "source": [
    "text1 = customtkinter.CTkLabel(app, text=\"Set First alarm\")\n",
    "text1.grid(row=0, column=3, padx=30, pady=0,)\n",
    "\n",
    "text1 = customtkinter.CTkLabel(app, text=\"Set second alarm\")\n",
    "text1.grid(row=2, column=3, padx=30, pady=0,)\n",
    "\n",
    "first_input = tkinter.DoubleVar()\n",
    "input1 = customtkinter.CTkEntry(app, width=100, height=30, textvariable=first_input)\n",
    "input1.grid(row=1, column=3, padx=20, pady=0)\n",
    "\n",
    "second_input = tkinter.DoubleVar()\n",
    "input2 = customtkinter.CTkEntry(app, width=100, height=30, textvariable=second_input)\n",
    "input2.grid(row=3, column=3, padx=20, pady=0)\n",
    "\n",
    "\n",
    "alarm_button1 = customtkinter.CTkButton(app, width=60, height=30, text=\"SET\", command=set1)\n",
    "alarm_button1.grid(row=1, column=5, padx=20, pady=0)\n",
    "\n",
    "alarm_button2 = customtkinter.CTkButton(app, width=60, height=30, text=\"SET\", command=set2)\n",
    "alarm_button2.grid(row=3, column=5, padx=20, pady=0)\n",
    "\n",
    "data = customtkinter.CTkButton(app, width=60, height=30, text=\"Log reports\", command=data_page)\n",
    "data.grid(row=0, column=0, padx=20, pady=0)\n"
   ]
  },
  {
   "cell_type": "code",
   "execution_count": 55,
   "metadata": {},
   "outputs": [],
   "source": [
    "def clear(object):\n",
    "    slaves = object.grid_slaves()\n",
    "    for x in slaves:\n",
    "        x.destroy()\n",
    "\n",
    "# def data_page():\n",
    "#     clear(app)\n",
    "#     test = print(\"go back to main_page\")\n",
    "#     main_page = customtkinter.CTkButton(app, width=60, height=30, text=\"main page\", command=test)\n",
    "#     main_page.grid(row=0, column=0, padx=20, pady=0)\n",
    "#     print(\"Show database page\")\n",
    "    \n",
    "def set1():\n",
    "    if first_input.get() < 0:\n",
    "        print(\"ERROR: INVALID VALUE\")\n",
    "    elif first_input.get() >= 0:\n",
    "        print(\"Alarm set to:\", first_input.get())\n",
    "\n",
    "def set2():\n",
    "    if second_input.get() <= first_input.get():\n",
    "        print(\"The second alarm cannot be lower than the first alarm\")\n",
    "    elif second_input.get() > first_input.get():\n",
    "        print(\"Alarm set to:\", second_input.get())"
   ]
  },
  {
   "cell_type": "code",
   "execution_count": null,
   "metadata": {},
   "outputs": [
    {
     "name": "stdout",
     "output_type": "stream",
     "text": [
      "go back to main_page\n",
      "Show database page\n"
     ]
    }
   ],
   "source": [
    "app.mainloop()"
   ]
  }
 ],
 "metadata": {
  "kernelspec": {
   "display_name": "Python 3",
   "language": "python",
   "name": "python3"
  },
  "language_info": {
   "codemirror_mode": {
    "name": "ipython",
    "version": 3
   },
   "file_extension": ".py",
   "mimetype": "text/x-python",
   "name": "python",
   "nbconvert_exporter": "python",
   "pygments_lexer": "ipython3",
   "version": "3.11.9"
  }
 },
 "nbformat": 4,
 "nbformat_minor": 2
}
